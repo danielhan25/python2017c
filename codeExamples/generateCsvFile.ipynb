{
 "cells": [
  {
   "cell_type": "code",
   "execution_count": 16,
   "metadata": {},
   "outputs": [
    {
     "name": "stdout",
     "output_type": "stream",
     "text": [
      "i am numpy <module 'numpy' from '/home/shai/.local/lib/python3.5/site-packages/numpy/__init__.py'>\n",
      "[[8, 9], [8, 10], [10, 5], [5, 9], [7, 3], [6, 5], [2, 3], [8, 5], [8, 9], [3, 5], [6, 10], [8, 8], [9, 5], [4, 8], [5, 8], [3, 7], [7, 10], [7, 5], [7, 7], [5, 7], [7, 8], [9, 8], [5, 2], [10, 5], [4, 7], [9, 10], [2, 9], [4, 3], [3, 6], [7, 3], [2, 7], [9, 3], [3, 2], [8, 8], [4, 7], [8, 6], [9, 8], [10, 5], [4, 2], [7, 5], [8, 7], [4, 8], [4, 9], [4, 6], [10, 4], [9, 9], [6, 9], [7, 9], [6, 8], [9, 8]]\n"
     ]
    },
    {
     "data": {
      "image/png": "[encoded data removed]",
      "text/plain": [
       "<matplotlib.figure.Figure at 0x7f942703d278>"
      ]
     },
     "metadata": {},
     "output_type": "display_data"
    }
   ],
   "source": [
    "import csv \n",
    "import numpy as np \n",
    "\n",
    "print (\"i am numpy\", np)\n",
    "\n",
    "def createCsvFile(rows, cols):\n",
    "    a = np.random.randint(2, size=(10,10))\n",
    "    np.savetxt(\"foo.csv\", a, fmt = \"%d\", delimiter=\",\")\n",
    "    \n",
    "    \n",
    "def randomIntegersUsingRandom(length = 2):\n",
    "    import random \n",
    "    return [random.randint(2,10) for i in range(length)]\n",
    "    \n",
    "def plotListOfCoordinates(l):\n",
    "    import matplotlib.pyplot as plt \n",
    "    plt.scatter(l[0],l[1])\n",
    "    plt.show()\n",
    "    \n",
    "def transposeList(l):\n",
    "    return list(zip(*l))\n",
    "    \n",
    "createCsvFile(10,10)\n",
    "numbers = [randomIntegersUsingRandom() for i in range(50)]\n",
    "print (numbers)\n",
    "plotListOfCoordinates(transposeList(numbers))"
   ]
  }
 ],
 "metadata": {
  "kernelspec": {
   "display_name": "Python 3",
   "language": "python",
   "name": "python3"
  },
  "language_info": {
   "codemirror_mode": {
    "name": "ipython",
    "version": 3
   },
   "file_extension": ".py",
   "mimetype": "text/x-python",
   "name": "python",
   "nbconvert_exporter": "python",
   "pygments_lexer": "ipython3",
   "version": "3.5.2"
  }
 },
 "nbformat": 4,
 "nbformat_minor": 2
}
