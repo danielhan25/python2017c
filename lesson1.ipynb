{
 "cells": [
  {
   "cell_type": "code",
   "execution_count": 23,
   "metadata": {},
   "outputs": [
    {
     "name": "stdout",
     "output_type": "stream",
     "text": [
      "hello world\n"
     ]
    }
   ],
   "source": [
    "print (\"hello world\")\n"
   ]
  },
  {
   "cell_type": "code",
   "execution_count": 24,
   "metadata": {},
   "outputs": [
    {
     "name": "stdout",
     "output_type": "stream",
     "text": [
      "True\n",
      "False\n",
      "True\n",
      "True\n",
      "True\n"
     ]
    }
   ],
   "source": [
    "a = 5 \n",
    "b = \"5\"\n",
    "c = 5.0 \n",
    "d = 5\n",
    "\n",
    "print(a == a) \n",
    "print(a == b) \n",
    "print(a == c) \n",
    "print(a == d) \n",
    "print(a == int(c))"
   ]
  },
  {
   "cell_type": "code",
   "execution_count": 25,
   "metadata": {},
   "outputs": [
    {
     "name": "stdout",
     "output_type": "stream",
     "text": [
      "1\n",
      "2\n",
      "3\n",
      "\n",
      "0 1\n",
      "1 2\n",
      "2 3\n",
      "\n",
      "[1, 2, 3]\n",
      "[234234, 234234, 234234]\n"
     ]
    }
   ],
   "source": [
    "a = [1,2,3]\n",
    "b = (1,2,3)\n",
    "\n",
    "for m in a:\n",
    "    print (m),\n",
    "print(\"\")\n",
    "    \n",
    "    \n",
    "for i,m in enumerate(a):\n",
    "    print (i,m), \n",
    "print(\"\")\n",
    "    \n",
    "for m in a:\n",
    "    m = 123123 \n",
    "print (a)\n",
    "\n",
    "\n",
    "for i,m in enumerate(a):\n",
    "    a[i] = 234234\n",
    "print (a)\n",
    "#what happend here?"
   ]
  },
  {
   "cell_type": "code",
   "execution_count": 26,
   "metadata": {},
   "outputs": [
    {
     "name": "stdout",
     "output_type": "stream",
     "text": [
      "yes\n"
     ]
    }
   ],
   "source": [
    "a = 4 \n",
    "b = 3 \n",
    "\n",
    "if a>b:\n",
    "    print (\"yes\")\n",
    "else:\n",
    "    print (\"no\")\n",
    "    \n",
    "    \n",
    "    \n",
    "    "
   ]
  },
  {
   "cell_type": "code",
   "execution_count": 28,
   "metadata": {},
   "outputs": [
    {
     "name": "stdout",
     "output_type": "stream",
     "text": [
      "i like tests\n",
      "<bound method student.test of <__main__.student object at 0x7f68dcc989e8>>\n"
     ]
    }
   ],
   "source": [
    "class student:\n",
    "    def test(self):\n",
    "        print (\"i like tests\")\n",
    "        \n",
    "shai = student()\n",
    "shai.test()\n",
    "print (shai.test)\n",
    "\n",
    "#what is self? "
   ]
  }
 ],
 "metadata": {
  "kernelspec": {
   "display_name": "Python 3",
   "language": "python",
   "name": "python3"
  },
  "language_info": {
   "codemirror_mode": {
    "name": "ipython",
    "version": 3
   },
   "file_extension": ".py",
   "mimetype": "text/x-python",
   "name": "python",
   "nbconvert_exporter": "python",
   "pygments_lexer": "ipython3",
   "version": "3.5.2"
  }
 },
 "nbformat": 4,
 "nbformat_minor": 2
}
