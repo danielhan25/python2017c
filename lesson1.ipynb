{
 "cells": [
  {
   "cell_type": "code",
   "execution_count": 29,
   "metadata": {},
   "outputs": [
    {
     "name": "stdout",
     "output_type": "stream",
     "text": [
      "hello world\n"
     ]
    }
   ],
   "source": [
    "print (\"hello world\")\n"
   ]
  },
  {
   "cell_type": "code",
   "execution_count": 30,
   "metadata": {},
   "outputs": [
    {
     "name": "stdout",
     "output_type": "stream",
     "text": [
      "True\n",
      "False\n",
      "True\n",
      "True\n",
      "True\n"
     ]
    }
   ],
   "source": [
    "a = 5 \n",
    "b = \"5\"\n",
    "c = 5.0 \n",
    "d = 5\n",
    "\n",
    "print(a == a) \n",
    "print(a == b) \n",
    "print(a == c) \n",
    "print(a == d) \n",
    "print(a == int(c))"
   ]
  },
  {
   "cell_type": "code",
   "execution_count": 31,
   "metadata": {
    "collapsed": true
   },
   "outputs": [],
   "source": [
    "#meet the python list\n",
    "a = [1,2,3]"
   ]
  },
  {
   "cell_type": "code",
   "execution_count": 32,
   "metadata": {
    "collapsed": true
   },
   "outputs": [],
   "source": [
    "#meet the python tuple\n",
    "#they are close, but not the same, list is more complex and has more methods to it! \n",
    "#when you don't know what to use, use a list for now.\n",
    "b = (1,2,3)"
   ]
  },
  {
   "cell_type": "code",
   "execution_count": 33,
   "metadata": {},
   "outputs": [
    {
     "name": "stdout",
     "output_type": "stream",
     "text": [
      "1\n",
      "2\n",
      "3\n",
      "\n"
     ]
    }
   ],
   "source": [
    "for m in a:\n",
    "    print (m, end = \"\"),\n",
    "    #the comma will tell python not to add the newline charecter after the print.\n",
    "print(\"\")"
   ]
  },
  {
   "cell_type": "code",
   "execution_count": 34,
   "metadata": {},
   "outputs": [
    {
     "name": "stdout",
     "output_type": "stream",
     "text": [
      "0 1\n",
      "1 2\n",
      "2 3\n",
      "\n"
     ]
    }
   ],
   "source": [
    "for i,m in enumerate(a):\n",
    "    print (i,m), \n",
    "print(\"\")"
   ]
  },
  {
   "cell_type": "code",
   "execution_count": 35,
   "metadata": {},
   "outputs": [
    {
     "name": "stdout",
     "output_type": "stream",
     "text": [
      "<enumerate object at 0x7f69a06e1630>\n",
      "[(0, 1), (1, 2), (2, 3)]\n"
     ]
    }
   ],
   "source": [
    "#let's understand what is enumerate! \n",
    "print (enumerate(a))\n",
    "print (list(enumerate(a)))"
   ]
  },
  {
   "cell_type": "code",
   "execution_count": 36,
   "metadata": {},
   "outputs": [
    {
     "name": "stdout",
     "output_type": "stream",
     "text": [
      "[1, 2, 3]\n"
     ]
    }
   ],
   "source": [
    "#when we are iterating over the list members, we are not getting the \"real\" list members, we are getting coppies\n",
    "for m in a:\n",
    "    m = 123123 \n",
    "print (a)"
   ]
  },
  {
   "cell_type": "code",
   "execution_count": 37,
   "metadata": {},
   "outputs": [
    {
     "name": "stdout",
     "output_type": "stream",
     "text": [
      "[234234, 234234, 234234]\n"
     ]
    }
   ],
   "source": [
    "#here we are iterating over the indecies that we recieve from enumerate, then, we are able to access the true members of the list!\n",
    "for i,m in enumerate(a):\n",
    "    a[i] = 234234\n",
    "print (a)\n",
    "#what happend here?"
   ]
  },
  {
   "cell_type": "code",
   "execution_count": 38,
   "metadata": {},
   "outputs": [
    {
     "name": "stdout",
     "output_type": "stream",
     "text": [
      "yes\n"
     ]
    }
   ],
   "source": [
    "a = 4 \n",
    "b = 3 \n",
    "\n",
    "if a>b:\n",
    "    print (\"yes\")\n",
    "else:\n",
    "    print (\"no\")"
   ]
  },
  {
   "cell_type": "code",
   "execution_count": 39,
   "metadata": {},
   "outputs": [
    {
     "name": "stdout",
     "output_type": "stream",
     "text": [
      "my id is 123456 and i like tests!\n",
      "<bound method student.test of <__main__.student object at 0x7f69a070a7b8>>\n"
     ]
    }
   ],
   "source": [
    "class student(object):\n",
    "    @classmethod\n",
    "    def complain(cls):\n",
    "        print (\"this test is hard!\")\n",
    "    \n",
    "    def test(self):\n",
    "        print (\"my id is %s and i like tests!\"%(self.id))\n",
    "        \n",
    "    def __init__(self, id):\n",
    "        self.id = id \n",
    "        \n",
    "shai = student(\"123456\")\n",
    "shai.test()\n",
    "print (shai.test)\n",
    "\n",
    "#what is self? "
   ]
  },
  {
   "cell_type": "code",
   "execution_count": 40,
   "metadata": {},
   "outputs": [
    {
     "data": {
      "text/plain": [
       "False"
      ]
     },
     "execution_count": 40,
     "metadata": {},
     "output_type": "execute_result"
    }
   ],
   "source": [
    "shai == student"
   ]
  },
  {
   "cell_type": "code",
   "execution_count": 41,
   "metadata": {},
   "outputs": [
    {
     "data": {
      "text/plain": [
       "True"
      ]
     },
     "execution_count": 41,
     "metadata": {},
     "output_type": "execute_result"
    }
   ],
   "source": [
    "isinstance(shai,student)"
   ]
  },
  {
   "cell_type": "code",
   "execution_count": 65,
   "metadata": {
    "collapsed": true
   },
   "outputs": [],
   "source": [
    "#some more object oriented~!\n",
    "\n",
    "class cs_student(student):\n",
    "    def __init__(self, id):\n",
    "        super(self.__class__, self).__init__(id)\n",
    "    def complainAlgoTest(self):\n",
    "        print (\"this test is hard ^ 2\")"
   ]
  },
  {
   "cell_type": "code",
   "execution_count": 66,
   "metadata": {
    "collapsed": true
   },
   "outputs": [],
   "source": [
    "shai1 = cs_student(\"123adasasd213\")"
   ]
  },
  {
   "cell_type": "code",
   "execution_count": 67,
   "metadata": {},
   "outputs": [
    {
     "name": "stdout",
     "output_type": "stream",
     "text": [
      "my id is 123adasasd213 and i like tests!\n"
     ]
    }
   ],
   "source": [
    "shai1.test()"
   ]
  },
  {
   "cell_type": "code",
   "execution_count": 68,
   "metadata": {},
   "outputs": [
    {
     "name": "stdout",
     "output_type": "stream",
     "text": [
      "this test is hard ^ 2\n"
     ]
    }
   ],
   "source": [
    "shai1.complainAlgoTest()"
   ]
  },
  {
   "cell_type": "code",
   "execution_count": null,
   "metadata": {
    "collapsed": true
   },
   "outputs": [],
   "source": []
  },
  {
   "cell_type": "code",
   "execution_count": null,
   "metadata": {
    "collapsed": true
   },
   "outputs": [],
   "source": []
  },
  {
   "cell_type": "code",
   "execution_count": null,
   "metadata": {
    "collapsed": true
   },
   "outputs": [],
   "source": []
  }
 ],
 "metadata": {
  "kernelspec": {
   "display_name": "Python 3",
   "language": "python",
   "name": "python3"
  },
  "language_info": {
   "codemirror_mode": {
    "name": "ipython",
    "version": 3
   },
   "file_extension": ".py",
   "mimetype": "text/x-python",
   "name": "python",
   "nbconvert_exporter": "python",
   "pygments_lexer": "ipython3",
   "version": "3.5.2"
  }
 },
 "nbformat": 4,
 "nbformat_minor": 2
}
